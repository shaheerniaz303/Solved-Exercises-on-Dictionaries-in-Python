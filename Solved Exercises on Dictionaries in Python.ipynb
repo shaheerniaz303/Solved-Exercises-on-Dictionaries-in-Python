{
 "cells": [
  {
   "cell_type": "markdown",
   "id": "b77dd02c-6364-43df-b4d0-bb57652f8101",
   "metadata": {},
   "source": [
    "## Solved Exercises on Dictionaries in Python"
   ]
  },
  {
   "cell_type": "code",
   "execution_count": 8,
   "id": "b3a56e0b-b66d-4ce1-aa21-834b453abd9e",
   "metadata": {},
   "outputs": [
    {
     "name": "stdout",
     "output_type": "stream",
     "text": [
      "{'name': 'shaheer niaz', 'age': '21', 'city': 'lahore', 'hobbies': ['badminton', 'cricket', 'playing cards']}\n"
     ]
    }
   ],
   "source": [
    "person_info = {\n",
    "    \"name\": \"shaheer niaz\",\n",
    "    \"age\": \"21\",\n",
    "    \"city\": \"lahore\",\n",
    "    \"hobbies\": [\"badminton\", \"cricket\", \"playing cards\"]\n",
    "}\n",
    "print(person_info)"
   ]
  },
  {
   "cell_type": "code",
   "execution_count": 26,
   "id": "e0ddba78-b6e6-4493-ac30-0f6e91107cc2",
   "metadata": {},
   "outputs": [
    {
     "name": "stdout",
     "output_type": "stream",
     "text": [
      "{'python': 1, 'world!': 1, 'Hello': 2, 'the': 1, 'world': 1, 'in': 1}\n"
     ]
    }
   ],
   "source": [
    "text = \"Hello world! Hello world in the python again.\"\n",
    "string = \"\"\n",
    "words = []\n",
    "frequency_of_words = {}\n",
    "for char in text :\n",
    "    if not char == \" \" :\n",
    "        string += char\n",
    "    elif char ==  \" \":\n",
    "        words.append(string)\n",
    "        string = \"\"\n",
    "unique_words = set(words)\n",
    "for word in unique_words :\n",
    "    frequency_of_words[word] = words.count(word)\n",
    "print(frequency_of_words)"
   ]
  },
  {
   "cell_type": "code",
   "execution_count": 46,
   "id": "2137b3e5-5903-4e0e-9b48-0cb724f1ff29",
   "metadata": {},
   "outputs": [
    {
     "name": "stdout",
     "output_type": "stream",
     "text": [
      "Store: S\n",
      "Quit : Q\n"
     ]
    },
    {
     "name": "stdin",
     "output_type": "stream",
     "text": [
      "Enter product name: Bikes\n",
      "Enter number of units:  10\n",
      "Enter S/Q: S\n",
      "Enter product name: Cars\n",
      "Enter number of units:  5\n",
      "Enter S/Q: q\n"
     ]
    },
    {
     "name": "stdout",
     "output_type": "stream",
     "text": [
      "{'Bikes': 10, 'Cars': 5}\n"
     ]
    }
   ],
   "source": [
    "Inventory = {}\n",
    "print(\"Store: S\\nQuit : Q\")\n",
    "while True :\n",
    "    product = input(\"Enter product name:\")\n",
    "    units = int(input(\"Enter number of units: \"))\n",
    "    option = input(\"Enter S/Q:\").lower()\n",
    "    Inventory[product] = units\n",
    "    if option == \"q\":\n",
    "        break\n",
    "print(Inventory)"
   ]
  },
  {
   "cell_type": "code",
   "execution_count": 50,
   "id": "8032d34d-9fe9-4faf-a586-2fc973e60aea",
   "metadata": {},
   "outputs": [
    {
     "name": "stdout",
     "output_type": "stream",
     "text": [
      "Cycles is one of the most popular with 800 units\n"
     ]
    }
   ],
   "source": [
    "customer_orders = {\n",
    "    \"Cars\" : \"600\",\n",
    "    \"Bikes\": \"200\",\n",
    "    \"Cycles\": \"800\",\n",
    "    \"Truck\": \"500\",\n",
    "}\n",
    "Max = max(customer_orders.values())\n",
    "for category, units in customer_orders.items():\n",
    "    if units == Max:\n",
    "        print(f\"{category.title()} is one of the most popular with {units} units\")"
   ]
  },
  {
   "cell_type": "code",
   "execution_count": 54,
   "id": "fa7d7ed0-4a00-47e1-ab9a-75069c1e2a30",
   "metadata": {},
   "outputs": [
    {
     "name": "stdout",
     "output_type": "stream",
     "text": [
      "Average: 113.75\n"
     ]
    }
   ],
   "source": [
    "student_grades = {\n",
    "    \"English\": 127,\n",
    "    \"Urdu\": 118,\n",
    "    \"Islamiyat\": 91,\n",
    "    \"Pak Studies\": 86,\n",
    "    \"Mathematics\": 136,\n",
    "    \"Physics\": 110,\n",
    "    \"Chemistry\": 120,\n",
    "    \"Biology\": 122,\n",
    "}\n",
    "print(f\"Average: {sum(student_grades.values()) / (len(student_grades))}\")"
   ]
  },
  {
   "cell_type": "code",
   "execution_count": 72,
   "id": "995b4347-21d3-43ef-b4ca-b701879582a4",
   "metadata": {},
   "outputs": [
    {
     "name": "stdout",
     "output_type": "stream",
     "text": [
      "Continue: C\n",
      "Quit: Q\n"
     ]
    },
    {
     "name": "stdin",
     "output_type": "stream",
     "text": [
      "Enter name:  cars\n",
      "Enter Units: 5\n",
      "Enter Price Per Unit: 2000\n",
      "Enter name:  bikes\n",
      "Enter Units: 20\n",
      "Enter Price Per Unit: 50000\n",
      "Enter name:  q\n"
     ]
    },
    {
     "name": "stdout",
     "output_type": "stream",
     "text": [
      "Update Product Quantities\n",
      "Skip: S\n"
     ]
    },
    {
     "name": "stdin",
     "output_type": "stream",
     "text": [
      "Cars:  s\n",
      "Bikes:  s\n"
     ]
    },
    {
     "name": "stdout",
     "output_type": "stream",
     "text": [
      "Valuation: 1010000 \n",
      "Cars has low stock\n"
     ]
    }
   ],
   "source": [
    "Inventory = {}\n",
    "low_stock = 15\n",
    "print(\"Continue: C\\nQuit: Q\")\n",
    "information = [\"units\", \"price per unit\", \"price\"]\n",
    "\n",
    "while True :\n",
    "    name = input(\"Enter name: \").lower()\n",
    "    if name == \"q\":\n",
    "        break\n",
    "    temp_dict = {}\n",
    "    for info in information :\n",
    "        if not info == \"price\":\n",
    "            temp_var = int(input(f\"Enter {info.title()}:\"))\n",
    "            temp_dict[f\"{info}\"] = temp_var\n",
    "        else :\n",
    "            temp_dict[\"price\"] = temp_dict[\"units\"] * temp_dict[\"price per unit\"]\n",
    "        Inventory[name] = temp_dict\n",
    "\n",
    "print(\"Update Product Quantities\\nSkip: S\")\n",
    "for category in Inventory.keys() :\n",
    "    if not input(f\"{category.title()}: \").lower() == \"s\":\n",
    "        Inventory[category][\"units\"] = input(f\"Enter {category} units:\")\n",
    "\n",
    "value = 0\n",
    "for info in Inventory.values():\n",
    "    value += info[\"price\"]\n",
    "print(f\"Valuation: {value} \")\n",
    "\n",
    "for name, info in Inventory.items() :\n",
    "    if int(info[\"units\"]) <= low_stock:\n",
    "        print(f\"{name.title()} has low stock\")"
   ]
  },
  {
   "cell_type": "code",
   "execution_count": 74,
   "id": "74690002-b72f-489d-8e72-0f86f5804d06",
   "metadata": {},
   "outputs": [
    {
     "name": "stdout",
     "output_type": "stream",
     "text": [
      "Continue: C\n",
      "Quit: Q\n"
     ]
    },
    {
     "name": "stdin",
     "output_type": "stream",
     "text": [
      "Enter Student Name:  shaheer\n",
      "Enter English:  80\n",
      "Enter Urdu:  75\n",
      "Enter Math:  85\n",
      "Enter Phyiscs:  60\n",
      "Enter Computer:  65\n",
      "Enter Tarjma Tul Quran:  47\n",
      "Enter Pak Studies:  42\n",
      "Enter Student Name:  ahsan\n",
      "Enter English:  85\n",
      "Enter Urdu:  82\n",
      "Enter Math:  65\n",
      "Enter Phyiscs:  50\n",
      "Enter Computer:  70\n",
      "Enter Tarjma Tul Quran:  48\n",
      "Enter Pak Studies:  45\n",
      "Enter Student Name:  q\n"
     ]
    },
    {
     "name": "stdout",
     "output_type": "stream",
     "text": [
      "Average\n",
      "Shaheer: 64.85714285714286\n",
      "Ahsan: 63.57142857142857\n",
      "English:\n",
      "\tHighest: 85\n",
      "\tLowest: 80\n",
      "Urdu:\n",
      "\tHighest: 82\n",
      "\tLowest: 75\n",
      "Math:\n",
      "\tHighest: 85\n",
      "\tLowest: 65\n",
      "Phyiscs:\n",
      "\tHighest: 60\n",
      "\tLowest: 50\n",
      "Computer:\n",
      "\tHighest: 70\n",
      "\tLowest: 65\n",
      "Tarjma Tul Quran:\n",
      "\tHighest: 48\n",
      "\tLowest: 47\n",
      "Pak Studies:\n",
      "\tHighest: 45\n",
      "\tLowest: 42\n",
      "Shaheer: 64.85714285714286\n",
      "Ahsan: 63.57142857142857\n"
     ]
    }
   ],
   "source": [
    "student_grades = {}\n",
    "average_grades = {}\n",
    "subjects_grades = {}\n",
    "subjects = (\"English\", \"Urdu\", \"Math\", \"Phyiscs\", \"Computer\", \"Tarjma tul Quran\", \"Pak Studies\")\n",
    "print(\"Continue: C\\nQuit: Q\")\n",
    "for i in subjects :\n",
    "    subjects_grades[i] = []\n",
    "while True :\n",
    "    name = input(\"Enter Student Name: \").lower()\n",
    "    if name == \"q\" :\n",
    "        break\n",
    "    temp_dictionary = {}\n",
    "    for subject in subjects :\n",
    "        temp_var = int(input(f\"Enter {subject.title()}: \"))\n",
    "        temp_dictionary[subject] = temp_var\n",
    "        subjects_grades[subject].append(temp_var)\n",
    "    student_grades[name] = temp_dictionary\n",
    "    average_grades[name] = sum(student_grades[name].values()) / (len(student_grades[name]))\n",
    "\n",
    "print(\"Average\")\n",
    "for student, average in average_grades.items() :\n",
    "    print(f\"{student.title()}: {average}\")\n",
    "\n",
    "for subject, grades in subjects_grades.items() :\n",
    "    print(f\"{subject.title()}:\\n\\tHighest: {max(grades)}\\n\\tLowest: {min(grades)}\")\n",
    "for avr in sorted(average_grades.values(), reverse= True) :\n",
    "    for name in average_grades :\n",
    "        if average_grades[name] == avr :\n",
    "          print(f\"{name.title()}: {avr}\")"
   ]
  }
 ],
 "metadata": {
  "kernelspec": {
   "display_name": "Python 3 (ipykernel)",
   "language": "python",
   "name": "python3"
  },
  "language_info": {
   "codemirror_mode": {
    "name": "ipython",
    "version": 3
   },
   "file_extension": ".py",
   "mimetype": "text/x-python",
   "name": "python",
   "nbconvert_exporter": "python",
   "pygments_lexer": "ipython3",
   "version": "3.12.4"
  }
 },
 "nbformat": 4,
 "nbformat_minor": 5
}
